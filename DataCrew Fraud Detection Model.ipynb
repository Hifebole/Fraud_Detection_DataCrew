{
 "cells": [
  {
   "cell_type": "markdown",
   "id": "2ffaaebc",
   "metadata": {},
   "source": [
    "Importing the relevant libraries"
   ]
  },
  {
   "cell_type": "code",
   "execution_count": 2,
   "id": "35018ff8",
   "metadata": {},
   "outputs": [],
   "source": [
    "import pandas as pd\n",
    "import numpy as np\n",
    "import matplotlib.pyplot as plt\n",
    "import seaborn as sb\n",
    "\n",
    "from sklearn.metrics import precision_score,\\\n",
    "recall_score, f1_score, accuracy_score, roc_auc_score\n",
    "from sklearn.metrics import classification_report\n",
    "from sklearn.metrics import confusion_matrix "
   ]
  },
  {
   "cell_type": "markdown",
   "id": "42a0dfe8",
   "metadata": {},
   "source": [
    "Loading the dataset into a dataframe for exploration"
   ]
  },
  {
   "cell_type": "code",
   "execution_count": 4,
   "id": "5c1302e1",
   "metadata": {},
   "outputs": [],
   "source": [
    "df = pd.read_csv('Fraud Detection Dataset.csv')"
   ]
  },
  {
   "cell_type": "markdown",
   "id": "fe60b3b5",
   "metadata": {},
   "source": [
    "Firstly to get a summarised outlook of the dataset"
   ]
  },
  {
   "cell_type": "code",
   "execution_count": 36,
   "id": "4999719c",
   "metadata": {
    "scrolled": true
   },
   "outputs": [
    {
     "name": "stdout",
     "output_type": "stream",
     "text": [
      "<class 'pandas.core.frame.DataFrame'>\n",
      "RangeIndex: 6000000 entries, 0 to 5999999\n",
      "Data columns (total 32 columns):\n",
      " #   Column                             Non-Null Count    Dtype  \n",
      "---  ------                             --------------    -----  \n",
      " 0   Transaction ID                     6000000 non-null  int64  \n",
      " 1   User ID                            6000000 non-null  int64  \n",
      " 2   Transaction Amount                 6000000 non-null  float64\n",
      " 3   Transaction Date and Time          6000000 non-null  object \n",
      " 4   Merchant ID                        6000000 non-null  int64  \n",
      " 5   Payment Method                     6000000 non-null  object \n",
      " 6   Country Code                       6000000 non-null  object \n",
      " 7   Transaction Type                   6000000 non-null  object \n",
      " 8   Device Type                        6000000 non-null  object \n",
      " 9   IP Address                         6000000 non-null  object \n",
      " 10  Browser Type                       6000000 non-null  object \n",
      " 11  Operating System                   6000000 non-null  object \n",
      " 12  Merchant Category                  6000000 non-null  object \n",
      " 13  User Age                           6000000 non-null  int64  \n",
      " 14  User Occupation                    6000000 non-null  object \n",
      " 15  User Income                        6000000 non-null  float64\n",
      " 16  User Gender                        6000000 non-null  object \n",
      " 17  User Account Status                6000000 non-null  object \n",
      " 18  Transaction Status                 6000000 non-null  object \n",
      " 19  Location Distance                  6000000 non-null  float64\n",
      " 20  Time Taken for Transaction         6000000 non-null  float64\n",
      " 21  Transaction Time of Day            6000000 non-null  object \n",
      " 22  User's Transaction History         6000000 non-null  int64  \n",
      " 23  Merchant's Reputation Score        6000000 non-null  float64\n",
      " 24  User's Device Location             6000000 non-null  object \n",
      " 25  Transaction Currency               6000000 non-null  object \n",
      " 26  Transaction Purpose                6000000 non-null  object \n",
      " 27  User's Credit Score                6000000 non-null  int64  \n",
      " 28  User's Email Domain                6000000 non-null  object \n",
      " 29  Merchant's Business Age            6000000 non-null  int64  \n",
      " 30  Transaction Authentication Method  6000000 non-null  object \n",
      " 31  Fraudulent Flag                    6000000 non-null  int64  \n",
      "dtypes: float64(5), int64(8), object(19)\n",
      "memory usage: 1.4+ GB\n"
     ]
    }
   ],
   "source": [
    "df.info(show_counts=True)"
   ]
  },
  {
   "cell_type": "markdown",
   "id": "46af7646",
   "metadata": {},
   "source": [
    "There are 6 million entries or row in this dataset and 32 columns with no null or nan entries"
   ]
  },
  {
   "cell_type": "markdown",
   "id": "9dae342e",
   "metadata": {},
   "source": [
    "Checking for duplicated rows"
   ]
  },
  {
   "cell_type": "code",
   "execution_count": 37,
   "id": "915201c8",
   "metadata": {
    "scrolled": true
   },
   "outputs": [
    {
     "data": {
      "text/plain": [
       "0"
      ]
     },
     "execution_count": 37,
     "metadata": {},
     "output_type": "execute_result"
    }
   ],
   "source": [
    "df.duplicated().sum()"
   ]
  },
  {
   "cell_type": "markdown",
   "id": "9ba13cbe",
   "metadata": {},
   "source": [
    "There are no duplicated rows"
   ]
  },
  {
   "cell_type": "markdown",
   "id": "c63438cb",
   "metadata": {},
   "source": [
    "Now to look at the first few rows of the dataframe , to have an idea of what the data entries look like "
   ]
  },
  {
   "cell_type": "code",
   "execution_count": 24,
   "id": "35e31a87",
   "metadata": {},
   "outputs": [],
   "source": [
    "pd.set_option('display.max_columns', None)"
   ]
  },
  {
   "cell_type": "code",
   "execution_count": 67,
   "id": "706ad67d",
   "metadata": {
    "scrolled": true
   },
   "outputs": [
    {
     "data": {
      "text/html": [
       "<div>\n",
       "<style scoped>\n",
       "    .dataframe tbody tr th:only-of-type {\n",
       "        vertical-align: middle;\n",
       "    }\n",
       "\n",
       "    .dataframe tbody tr th {\n",
       "        vertical-align: top;\n",
       "    }\n",
       "\n",
       "    .dataframe thead th {\n",
       "        text-align: right;\n",
       "    }\n",
       "</style>\n",
       "<table border=\"1\" class=\"dataframe\">\n",
       "  <thead>\n",
       "    <tr style=\"text-align: right;\">\n",
       "      <th></th>\n",
       "      <th>Transaction ID</th>\n",
       "      <th>User ID</th>\n",
       "      <th>Transaction Amount</th>\n",
       "      <th>Transaction Date and Time</th>\n",
       "      <th>Merchant ID</th>\n",
       "      <th>Payment Method</th>\n",
       "      <th>Country Code</th>\n",
       "      <th>Transaction Type</th>\n",
       "      <th>Device Type</th>\n",
       "      <th>IP Address</th>\n",
       "      <th>Browser Type</th>\n",
       "      <th>Operating System</th>\n",
       "      <th>Merchant Category</th>\n",
       "      <th>User Age</th>\n",
       "      <th>User Occupation</th>\n",
       "      <th>User Income</th>\n",
       "      <th>User Gender</th>\n",
       "      <th>User Account Status</th>\n",
       "      <th>Transaction Status</th>\n",
       "      <th>Location Distance</th>\n",
       "      <th>Time Taken for Transaction</th>\n",
       "      <th>Transaction Time of Day</th>\n",
       "      <th>User's Transaction History</th>\n",
       "      <th>Merchant's Reputation Score</th>\n",
       "      <th>User's Device Location</th>\n",
       "      <th>Transaction Currency</th>\n",
       "      <th>Transaction Purpose</th>\n",
       "      <th>User's Credit Score</th>\n",
       "      <th>User's Email Domain</th>\n",
       "      <th>Merchant's Business Age</th>\n",
       "      <th>Transaction Authentication Method</th>\n",
       "      <th>Fraudulent Flag</th>\n",
       "    </tr>\n",
       "  </thead>\n",
       "  <tbody>\n",
       "    <tr>\n",
       "      <th>0</th>\n",
       "      <td>51595306</td>\n",
       "      <td>9822</td>\n",
       "      <td>163.08</td>\n",
       "      <td>2023-01-02 07:47:54</td>\n",
       "      <td>4044</td>\n",
       "      <td>ACH Transfer</td>\n",
       "      <td>KOR</td>\n",
       "      <td>Charity</td>\n",
       "      <td>GPS Device</td>\n",
       "      <td>42.23.223.120</td>\n",
       "      <td>Links</td>\n",
       "      <td>Tizen</td>\n",
       "      <td>Industrial &amp; Scientific</td>\n",
       "      <td>68</td>\n",
       "      <td>Doctor</td>\n",
       "      <td>66826.21</td>\n",
       "      <td>Prefer Not to Say</td>\n",
       "      <td>Pro</td>\n",
       "      <td>In Transit</td>\n",
       "      <td>9.34</td>\n",
       "      <td>24.22</td>\n",
       "      <td>Daytime</td>\n",
       "      <td>26</td>\n",
       "      <td>2.71</td>\n",
       "      <td>United Kingdom</td>\n",
       "      <td>NOK</td>\n",
       "      <td>Consultation Fee</td>\n",
       "      <td>343</td>\n",
       "      <td>cox.co.uk</td>\n",
       "      <td>3</td>\n",
       "      <td>Bluetooth Authentication</td>\n",
       "      <td>0</td>\n",
       "    </tr>\n",
       "    <tr>\n",
       "      <th>1</th>\n",
       "      <td>85052974</td>\n",
       "      <td>4698</td>\n",
       "      <td>430.74</td>\n",
       "      <td>2021-09-12 15:15:41</td>\n",
       "      <td>4576</td>\n",
       "      <td>2Checkout</td>\n",
       "      <td>VNM</td>\n",
       "      <td>Cashback</td>\n",
       "      <td>Medical Device</td>\n",
       "      <td>39.52.212.120</td>\n",
       "      <td>Beaker</td>\n",
       "      <td>Windows Server</td>\n",
       "      <td>Beauty &amp; Cosmetics</td>\n",
       "      <td>22</td>\n",
       "      <td>Chemist</td>\n",
       "      <td>89356.71</td>\n",
       "      <td>Genderqueer</td>\n",
       "      <td>Pending Approval</td>\n",
       "      <td>Resolved</td>\n",
       "      <td>65.28</td>\n",
       "      <td>55.11</td>\n",
       "      <td>Daytime</td>\n",
       "      <td>60</td>\n",
       "      <td>3.95</td>\n",
       "      <td>Mexico</td>\n",
       "      <td>EGP</td>\n",
       "      <td>Cashback Reward</td>\n",
       "      <td>688</td>\n",
       "      <td>gmail.com</td>\n",
       "      <td>13</td>\n",
       "      <td>NFC Tag</td>\n",
       "      <td>1</td>\n",
       "    </tr>\n",
       "    <tr>\n",
       "      <th>2</th>\n",
       "      <td>23954324</td>\n",
       "      <td>8666</td>\n",
       "      <td>415.74</td>\n",
       "      <td>2023-01-12 17:25:58</td>\n",
       "      <td>4629</td>\n",
       "      <td>Google Wallet</td>\n",
       "      <td>MEX</td>\n",
       "      <td>Reward</td>\n",
       "      <td>Vehicle Infotainment System</td>\n",
       "      <td>243.180.236.29</td>\n",
       "      <td>Opera</td>\n",
       "      <td>Android</td>\n",
       "      <td>Real Estate</td>\n",
       "      <td>71</td>\n",
       "      <td>Nurse</td>\n",
       "      <td>58438.63</td>\n",
       "      <td>Male</td>\n",
       "      <td>Pro</td>\n",
       "      <td>Posted</td>\n",
       "      <td>44.05</td>\n",
       "      <td>53.84</td>\n",
       "      <td>Daytime</td>\n",
       "      <td>81</td>\n",
       "      <td>3.81</td>\n",
       "      <td>Qatar</td>\n",
       "      <td>MXN</td>\n",
       "      <td>Acquisition</td>\n",
       "      <td>371</td>\n",
       "      <td>rocketmail.com</td>\n",
       "      <td>7</td>\n",
       "      <td>Token</td>\n",
       "      <td>1</td>\n",
       "    </tr>\n",
       "    <tr>\n",
       "      <th>3</th>\n",
       "      <td>44108303</td>\n",
       "      <td>9012</td>\n",
       "      <td>565.89</td>\n",
       "      <td>2021-02-27 11:31:00</td>\n",
       "      <td>3322</td>\n",
       "      <td>Check</td>\n",
       "      <td>SGP</td>\n",
       "      <td>Purchase</td>\n",
       "      <td>Kiosk</td>\n",
       "      <td>212.186.227.14</td>\n",
       "      <td>Konqueror</td>\n",
       "      <td>CentOS</td>\n",
       "      <td>Appliances</td>\n",
       "      <td>78</td>\n",
       "      <td>Nurse</td>\n",
       "      <td>3426.92</td>\n",
       "      <td>Agender</td>\n",
       "      <td>Premium</td>\n",
       "      <td>Closed</td>\n",
       "      <td>21.70</td>\n",
       "      <td>21.62</td>\n",
       "      <td>Daytime</td>\n",
       "      <td>18</td>\n",
       "      <td>2.67</td>\n",
       "      <td>Spain</td>\n",
       "      <td>CLP</td>\n",
       "      <td>Loan Repayment</td>\n",
       "      <td>687</td>\n",
       "      <td>roadrunner.co.uk</td>\n",
       "      <td>15</td>\n",
       "      <td>Time-Based OTP</td>\n",
       "      <td>1</td>\n",
       "    </tr>\n",
       "    <tr>\n",
       "      <th>4</th>\n",
       "      <td>66622683</td>\n",
       "      <td>5185</td>\n",
       "      <td>955.49</td>\n",
       "      <td>2022-09-24 04:06:38</td>\n",
       "      <td>7609</td>\n",
       "      <td>Worldpay</td>\n",
       "      <td>HKG</td>\n",
       "      <td>Acquisition</td>\n",
       "      <td>Smart Mirror</td>\n",
       "      <td>166.113.10.199</td>\n",
       "      <td>Basilisk</td>\n",
       "      <td>Ubuntu</td>\n",
       "      <td>Jewelry</td>\n",
       "      <td>31</td>\n",
       "      <td>Physicist</td>\n",
       "      <td>53080.12</td>\n",
       "      <td>Male</td>\n",
       "      <td>Free</td>\n",
       "      <td>Refunded</td>\n",
       "      <td>56.63</td>\n",
       "      <td>53.71</td>\n",
       "      <td>Daytime</td>\n",
       "      <td>98</td>\n",
       "      <td>3.19</td>\n",
       "      <td>Israel</td>\n",
       "      <td>RUB</td>\n",
       "      <td>Dividend Reinvestment</td>\n",
       "      <td>605</td>\n",
       "      <td>protonmail.co.uk</td>\n",
       "      <td>17</td>\n",
       "      <td>Password</td>\n",
       "      <td>1</td>\n",
       "    </tr>\n",
       "  </tbody>\n",
       "</table>\n",
       "</div>"
      ],
      "text/plain": [
       "   Transaction ID  User ID  Transaction Amount Transaction Date and Time  \\\n",
       "0        51595306     9822              163.08       2023-01-02 07:47:54   \n",
       "1        85052974     4698              430.74       2021-09-12 15:15:41   \n",
       "2        23954324     8666              415.74       2023-01-12 17:25:58   \n",
       "3        44108303     9012              565.89       2021-02-27 11:31:00   \n",
       "4        66622683     5185              955.49       2022-09-24 04:06:38   \n",
       "\n",
       "   Merchant ID Payment Method Country Code Transaction Type  \\\n",
       "0         4044   ACH Transfer          KOR          Charity   \n",
       "1         4576      2Checkout          VNM         Cashback   \n",
       "2         4629  Google Wallet          MEX           Reward   \n",
       "3         3322          Check          SGP         Purchase   \n",
       "4         7609       Worldpay          HKG      Acquisition   \n",
       "\n",
       "                   Device Type      IP Address Browser Type Operating System  \\\n",
       "0                   GPS Device   42.23.223.120        Links            Tizen   \n",
       "1               Medical Device   39.52.212.120       Beaker   Windows Server   \n",
       "2  Vehicle Infotainment System  243.180.236.29        Opera          Android   \n",
       "3                        Kiosk  212.186.227.14    Konqueror           CentOS   \n",
       "4                 Smart Mirror  166.113.10.199     Basilisk           Ubuntu   \n",
       "\n",
       "         Merchant Category  User Age User Occupation  User Income  \\\n",
       "0  Industrial & Scientific        68          Doctor     66826.21   \n",
       "1       Beauty & Cosmetics        22         Chemist     89356.71   \n",
       "2              Real Estate        71           Nurse     58438.63   \n",
       "3               Appliances        78           Nurse      3426.92   \n",
       "4                  Jewelry        31       Physicist     53080.12   \n",
       "\n",
       "         User Gender User Account Status Transaction Status  \\\n",
       "0  Prefer Not to Say                 Pro         In Transit   \n",
       "1        Genderqueer    Pending Approval           Resolved   \n",
       "2               Male                 Pro             Posted   \n",
       "3            Agender             Premium             Closed   \n",
       "4               Male                Free           Refunded   \n",
       "\n",
       "   Location Distance  Time Taken for Transaction Transaction Time of Day  \\\n",
       "0               9.34                       24.22                 Daytime   \n",
       "1              65.28                       55.11                 Daytime   \n",
       "2              44.05                       53.84                 Daytime   \n",
       "3              21.70                       21.62                 Daytime   \n",
       "4              56.63                       53.71                 Daytime   \n",
       "\n",
       "   User's Transaction History  Merchant's Reputation Score  \\\n",
       "0                          26                         2.71   \n",
       "1                          60                         3.95   \n",
       "2                          81                         3.81   \n",
       "3                          18                         2.67   \n",
       "4                          98                         3.19   \n",
       "\n",
       "  User's Device Location Transaction Currency    Transaction Purpose  \\\n",
       "0         United Kingdom                  NOK       Consultation Fee   \n",
       "1                 Mexico                  EGP        Cashback Reward   \n",
       "2                  Qatar                  MXN            Acquisition   \n",
       "3                  Spain                  CLP         Loan Repayment   \n",
       "4                 Israel                  RUB  Dividend Reinvestment   \n",
       "\n",
       "   User's Credit Score User's Email Domain  Merchant's Business Age  \\\n",
       "0                  343           cox.co.uk                        3   \n",
       "1                  688           gmail.com                       13   \n",
       "2                  371      rocketmail.com                        7   \n",
       "3                  687    roadrunner.co.uk                       15   \n",
       "4                  605    protonmail.co.uk                       17   \n",
       "\n",
       "  Transaction Authentication Method  Fraudulent Flag  \n",
       "0          Bluetooth Authentication                0  \n",
       "1                           NFC Tag                1  \n",
       "2                             Token                1  \n",
       "3                    Time-Based OTP                1  \n",
       "4                          Password                1  "
      ]
     },
     "execution_count": 67,
     "metadata": {},
     "output_type": "execute_result"
    }
   ],
   "source": [
    "df.head()"
   ]
  },
  {
   "cell_type": "markdown",
   "id": "bcb1f374",
   "metadata": {},
   "source": [
    "Removing some columns that may lead to data leakage and columns that won't contribute to our prediction , like IDs , Date and Time e.t.c. "
   ]
  },
  {
   "cell_type": "code",
   "execution_count": 56,
   "id": "24278d5d",
   "metadata": {},
   "outputs": [],
   "source": [
    "# Columns to drop\n",
    "col_to_drop = ['Transaction ID','User ID','Transaction Date and Time',\"Merchant ID\"\n",
    "               ,'Country Code','IP Address','Transaction Status',\"User's Device Location\",]\n",
    "\n",
    "df1 = df.drop(col_to_drop, axis=1)"
   ]
  },
  {
   "cell_type": "code",
   "execution_count": 57,
   "id": "f7f7e5aa",
   "metadata": {},
   "outputs": [
    {
     "name": "stdout",
     "output_type": "stream",
     "text": [
      "Transaction Amount                    float64\n",
      "Payment Method                       category\n",
      "Transaction Type                     category\n",
      "Device Type                          category\n",
      "Browser Type                         category\n",
      "Operating System                     category\n",
      "Merchant Category                    category\n",
      "User Age                                int64\n",
      "User Occupation                      category\n",
      "User Income                           float64\n",
      "User Gender                          category\n",
      "User Account Status                  category\n",
      "Location Distance                     float64\n",
      "Time Taken for Transaction            float64\n",
      "Transaction Time of Day              category\n",
      "User's Transaction History              int64\n",
      "Merchant's Reputation Score           float64\n",
      "Transaction Currency                 category\n",
      "Transaction Purpose                  category\n",
      "User's Credit Score                     int64\n",
      "User's Email Domain                  category\n",
      "Merchant's Business Age                 int64\n",
      "Transaction Authentication Method    category\n",
      "Fraudulent Flag                         int64\n",
      "dtype: object\n"
     ]
    }
   ],
   "source": [
    "df2 = df1.copy()\n",
    "#cat_var = []\n",
    "for i, j in enumerate(df2.dtypes):\n",
    "    if j == 'object':\n",
    "        #cat_var.append(df2.dtypes.index[i])\n",
    "        df2[df2.dtypes.index[i]] = pd.Categorical(df2[df2.dtypes.index[i]])\n",
    "\n",
    "print(df2.dtypes)\n"
   ]
  },
  {
   "cell_type": "code",
   "execution_count": 59,
   "id": "1561ac84",
   "metadata": {
    "scrolled": true
   },
   "outputs": [
    {
     "data": {
      "text/html": [
       "<div>\n",
       "<style scoped>\n",
       "    .dataframe tbody tr th:only-of-type {\n",
       "        vertical-align: middle;\n",
       "    }\n",
       "\n",
       "    .dataframe tbody tr th {\n",
       "        vertical-align: top;\n",
       "    }\n",
       "\n",
       "    .dataframe thead th {\n",
       "        text-align: right;\n",
       "    }\n",
       "</style>\n",
       "<table border=\"1\" class=\"dataframe\">\n",
       "  <thead>\n",
       "    <tr style=\"text-align: right;\">\n",
       "      <th></th>\n",
       "      <th>Transaction Amount</th>\n",
       "      <th>User Age</th>\n",
       "      <th>User Income</th>\n",
       "      <th>Location Distance</th>\n",
       "      <th>Time Taken for Transaction</th>\n",
       "      <th>User's Transaction History</th>\n",
       "      <th>Merchant's Reputation Score</th>\n",
       "      <th>User's Credit Score</th>\n",
       "      <th>Merchant's Business Age</th>\n",
       "      <th>Fraudulent Flag</th>\n",
       "    </tr>\n",
       "  </thead>\n",
       "  <tbody>\n",
       "    <tr>\n",
       "      <th>count</th>\n",
       "      <td>6.000000e+06</td>\n",
       "      <td>6.000000e+06</td>\n",
       "      <td>6.000000e+06</td>\n",
       "      <td>6.000000e+06</td>\n",
       "      <td>6.000000e+06</td>\n",
       "      <td>6.000000e+06</td>\n",
       "      <td>6.000000e+06</td>\n",
       "      <td>6.000000e+06</td>\n",
       "      <td>6.000000e+06</td>\n",
       "      <td>6.000000e+06</td>\n",
       "    </tr>\n",
       "    <tr>\n",
       "      <th>mean</th>\n",
       "      <td>5.005515e+02</td>\n",
       "      <td>4.900159e+01</td>\n",
       "      <td>5.049328e+04</td>\n",
       "      <td>5.050600e+01</td>\n",
       "      <td>3.049492e+01</td>\n",
       "      <td>5.048393e+01</td>\n",
       "      <td>2.999382e+00</td>\n",
       "      <td>5.749533e+02</td>\n",
       "      <td>1.049685e+01</td>\n",
       "      <td>4.999843e-01</td>\n",
       "    </tr>\n",
       "    <tr>\n",
       "      <th>std</th>\n",
       "      <td>2.884166e+02</td>\n",
       "      <td>1.818538e+01</td>\n",
       "      <td>2.858223e+04</td>\n",
       "      <td>2.857562e+01</td>\n",
       "      <td>1.703567e+01</td>\n",
       "      <td>2.886705e+01</td>\n",
       "      <td>1.154479e+00</td>\n",
       "      <td>1.590197e+02</td>\n",
       "      <td>5.764884e+00</td>\n",
       "      <td>5.000000e-01</td>\n",
       "    </tr>\n",
       "    <tr>\n",
       "      <th>min</th>\n",
       "      <td>1.000000e+00</td>\n",
       "      <td>1.800000e+01</td>\n",
       "      <td>1.000020e+03</td>\n",
       "      <td>1.000000e+00</td>\n",
       "      <td>1.000000e+00</td>\n",
       "      <td>1.000000e+00</td>\n",
       "      <td>1.000000e+00</td>\n",
       "      <td>3.000000e+02</td>\n",
       "      <td>1.000000e+00</td>\n",
       "      <td>0.000000e+00</td>\n",
       "    </tr>\n",
       "    <tr>\n",
       "      <th>25%</th>\n",
       "      <td>2.507900e+02</td>\n",
       "      <td>3.300000e+01</td>\n",
       "      <td>2.573446e+04</td>\n",
       "      <td>2.576000e+01</td>\n",
       "      <td>1.574000e+01</td>\n",
       "      <td>2.500000e+01</td>\n",
       "      <td>2.000000e+00</td>\n",
       "      <td>4.370000e+02</td>\n",
       "      <td>5.000000e+00</td>\n",
       "      <td>0.000000e+00</td>\n",
       "    </tr>\n",
       "    <tr>\n",
       "      <th>50%</th>\n",
       "      <td>5.005100e+02</td>\n",
       "      <td>4.900000e+01</td>\n",
       "      <td>5.050294e+04</td>\n",
       "      <td>5.051000e+01</td>\n",
       "      <td>3.050000e+01</td>\n",
       "      <td>5.000000e+01</td>\n",
       "      <td>3.000000e+00</td>\n",
       "      <td>5.750000e+02</td>\n",
       "      <td>1.000000e+01</td>\n",
       "      <td>0.000000e+00</td>\n",
       "    </tr>\n",
       "    <tr>\n",
       "      <th>75%</th>\n",
       "      <td>7.504400e+02</td>\n",
       "      <td>6.500000e+01</td>\n",
       "      <td>7.523454e+04</td>\n",
       "      <td>7.525000e+01</td>\n",
       "      <td>4.526000e+01</td>\n",
       "      <td>7.500000e+01</td>\n",
       "      <td>4.000000e+00</td>\n",
       "      <td>7.130000e+02</td>\n",
       "      <td>1.500000e+01</td>\n",
       "      <td>1.000000e+00</td>\n",
       "    </tr>\n",
       "    <tr>\n",
       "      <th>max</th>\n",
       "      <td>1.000000e+03</td>\n",
       "      <td>8.000000e+01</td>\n",
       "      <td>1.000000e+05</td>\n",
       "      <td>1.000000e+02</td>\n",
       "      <td>6.000000e+01</td>\n",
       "      <td>1.000000e+02</td>\n",
       "      <td>5.000000e+00</td>\n",
       "      <td>8.500000e+02</td>\n",
       "      <td>2.000000e+01</td>\n",
       "      <td>1.000000e+00</td>\n",
       "    </tr>\n",
       "  </tbody>\n",
       "</table>\n",
       "</div>"
      ],
      "text/plain": [
       "       Transaction Amount      User Age   User Income  Location Distance  \\\n",
       "count        6.000000e+06  6.000000e+06  6.000000e+06       6.000000e+06   \n",
       "mean         5.005515e+02  4.900159e+01  5.049328e+04       5.050600e+01   \n",
       "std          2.884166e+02  1.818538e+01  2.858223e+04       2.857562e+01   \n",
       "min          1.000000e+00  1.800000e+01  1.000020e+03       1.000000e+00   \n",
       "25%          2.507900e+02  3.300000e+01  2.573446e+04       2.576000e+01   \n",
       "50%          5.005100e+02  4.900000e+01  5.050294e+04       5.051000e+01   \n",
       "75%          7.504400e+02  6.500000e+01  7.523454e+04       7.525000e+01   \n",
       "max          1.000000e+03  8.000000e+01  1.000000e+05       1.000000e+02   \n",
       "\n",
       "       Time Taken for Transaction  User's Transaction History  \\\n",
       "count                6.000000e+06                6.000000e+06   \n",
       "mean                 3.049492e+01                5.048393e+01   \n",
       "std                  1.703567e+01                2.886705e+01   \n",
       "min                  1.000000e+00                1.000000e+00   \n",
       "25%                  1.574000e+01                2.500000e+01   \n",
       "50%                  3.050000e+01                5.000000e+01   \n",
       "75%                  4.526000e+01                7.500000e+01   \n",
       "max                  6.000000e+01                1.000000e+02   \n",
       "\n",
       "       Merchant's Reputation Score  User's Credit Score  \\\n",
       "count                 6.000000e+06         6.000000e+06   \n",
       "mean                  2.999382e+00         5.749533e+02   \n",
       "std                   1.154479e+00         1.590197e+02   \n",
       "min                   1.000000e+00         3.000000e+02   \n",
       "25%                   2.000000e+00         4.370000e+02   \n",
       "50%                   3.000000e+00         5.750000e+02   \n",
       "75%                   4.000000e+00         7.130000e+02   \n",
       "max                   5.000000e+00         8.500000e+02   \n",
       "\n",
       "       Merchant's Business Age  Fraudulent Flag  \n",
       "count             6.000000e+06     6.000000e+06  \n",
       "mean              1.049685e+01     4.999843e-01  \n",
       "std               5.764884e+00     5.000000e-01  \n",
       "min               1.000000e+00     0.000000e+00  \n",
       "25%               5.000000e+00     0.000000e+00  \n",
       "50%               1.000000e+01     0.000000e+00  \n",
       "75%               1.500000e+01     1.000000e+00  \n",
       "max               2.000000e+01     1.000000e+00  "
      ]
     },
     "execution_count": 59,
     "metadata": {},
     "output_type": "execute_result"
    }
   ],
   "source": [
    "df2.describe()"
   ]
  },
  {
   "cell_type": "code",
   "execution_count": 60,
   "id": "ace131ee",
   "metadata": {
    "scrolled": true
   },
   "outputs": [
    {
     "data": {
      "text/plain": [
       "14"
      ]
     },
     "execution_count": 60,
     "metadata": {},
     "output_type": "execute_result"
    }
   ],
   "source": [
    "sum(df2.dtypes == 'category')"
   ]
  },
  {
   "cell_type": "code",
   "execution_count": 61,
   "id": "a5480394",
   "metadata": {},
   "outputs": [
    {
     "data": {
      "text/plain": [
       "(6000000, 24)"
      ]
     },
     "execution_count": 61,
     "metadata": {},
     "output_type": "execute_result"
    }
   ],
   "source": [
    "df2.shape"
   ]
  },
  {
   "cell_type": "code",
   "execution_count": 63,
   "id": "75d4810f",
   "metadata": {
    "scrolled": true
   },
   "outputs": [
    {
     "data": {
      "text/plain": [
       "0    3000094\n",
       "1    2999906\n",
       "Name: Fraudulent Flag, dtype: int64"
      ]
     },
     "execution_count": 63,
     "metadata": {},
     "output_type": "execute_result"
    }
   ],
   "source": [
    "df2['Fraudulent Flag'].value_counts()"
   ]
  },
  {
   "cell_type": "markdown",
   "id": "6d3adf85",
   "metadata": {},
   "source": [
    "Checking the data distribution of the numeric variables"
   ]
  },
  {
   "cell_type": "code",
   "execution_count": 64,
   "id": "04ceb1ef",
   "metadata": {},
   "outputs": [
    {
     "data": {
      "image/png": "[encoded data removed]",
      "text/plain": [
       "<Figure size 1500x1200 with 12 Axes>"
      ]
     },
     "metadata": {},
     "output_type": "display_data"
    }
   ],
   "source": [
    "df2.hist(figsize=(15,12));"
   ]
  },
  {
   "cell_type": "markdown",
   "id": "5a39de2b",
   "metadata": {},
   "source": [
    "As highlighted by the plot above there is no class imbalance in this dataset"
   ]
  },
  {
   "cell_type": "code",
   "execution_count": 68,
   "id": "f90c90d4",
   "metadata": {},
   "outputs": [],
   "source": [
    "df3 = df2.copy()"
   ]
  },
  {
   "cell_type": "markdown",
   "id": "1b9b9461",
   "metadata": {},
   "source": [
    "Model Creation"
   ]
  },
  {
   "cell_type": "code",
   "execution_count": 69,
   "id": "ffccaffd",
   "metadata": {},
   "outputs": [],
   "source": [
    "# importing all the needed sklearn functions\n",
    "from sklearn.model_selection import train_test_split \n",
    "from sklearn.ensemble import GradientBoostingClassifier\n",
    "from sklearn.preprocessing import LabelEncoder"
   ]
  },
  {
   "cell_type": "markdown",
   "id": "a690eb01",
   "metadata": {},
   "source": [
    "Data Preprocessing"
   ]
  },
  {
   "cell_type": "code",
   "execution_count": 72,
   "id": "d462c182",
   "metadata": {},
   "outputs": [],
   "source": [
    "# Using Label encoder to turn all category data into numbers \n",
    "for i, j in enumerate(df3.dtypes):\n",
    "    le = LabelEncoder()\n",
    "    if j == 'category':\n",
    "        df3[df3.dtypes.index[i]] = le.fit_transform(np.array(df3[df3.dtypes.index[i]].values))"
   ]
  },
  {
   "cell_type": "code",
   "execution_count": 73,
   "id": "6fa985b4",
   "metadata": {
    "scrolled": true
   },
   "outputs": [
    {
     "data": {
      "text/html": [
       "<div>\n",
       "<style scoped>\n",
       "    .dataframe tbody tr th:only-of-type {\n",
       "        vertical-align: middle;\n",
       "    }\n",
       "\n",
       "    .dataframe tbody tr th {\n",
       "        vertical-align: top;\n",
       "    }\n",
       "\n",
       "    .dataframe thead th {\n",
       "        text-align: right;\n",
       "    }\n",
       "</style>\n",
       "<table border=\"1\" class=\"dataframe\">\n",
       "  <thead>\n",
       "    <tr style=\"text-align: right;\">\n",
       "      <th></th>\n",
       "      <th>Transaction Amount</th>\n",
       "      <th>Payment Method</th>\n",
       "      <th>Transaction Type</th>\n",
       "      <th>Device Type</th>\n",
       "      <th>Browser Type</th>\n",
       "      <th>Operating System</th>\n",
       "      <th>Merchant Category</th>\n",
       "      <th>User Age</th>\n",
       "      <th>User Occupation</th>\n",
       "      <th>User Income</th>\n",
       "      <th>User Gender</th>\n",
       "      <th>User Account Status</th>\n",
       "      <th>Location Distance</th>\n",
       "      <th>Time Taken for Transaction</th>\n",
       "      <th>Transaction Time of Day</th>\n",
       "      <th>User's Transaction History</th>\n",
       "      <th>Merchant's Reputation Score</th>\n",
       "      <th>Transaction Currency</th>\n",
       "      <th>Transaction Purpose</th>\n",
       "      <th>User's Credit Score</th>\n",
       "      <th>User's Email Domain</th>\n",
       "      <th>Merchant's Business Age</th>\n",
       "      <th>Transaction Authentication Method</th>\n",
       "      <th>Fraudulent Flag</th>\n",
       "    </tr>\n",
       "  </thead>\n",
       "  <tbody>\n",
       "    <tr>\n",
       "      <th>0</th>\n",
       "      <td>163.08</td>\n",
       "      <td>1</td>\n",
       "      <td>6</td>\n",
       "      <td>10</td>\n",
       "      <td>15</td>\n",
       "      <td>27</td>\n",
       "      <td>22</td>\n",
       "      <td>68</td>\n",
       "      <td>7</td>\n",
       "      <td>66826.21</td>\n",
       "      <td>6</td>\n",
       "      <td>11</td>\n",
       "      <td>9.34</td>\n",
       "      <td>24.22</td>\n",
       "      <td>0</td>\n",
       "      <td>26</td>\n",
       "      <td>2.71</td>\n",
       "      <td>24</td>\n",
       "      <td>9</td>\n",
       "      <td>343</td>\n",
       "      <td>3</td>\n",
       "      <td>3</td>\n",
       "      <td>5</td>\n",
       "      <td>0</td>\n",
       "    </tr>\n",
       "    <tr>\n",
       "      <th>1</th>\n",
       "      <td>430.74</td>\n",
       "      <td>0</td>\n",
       "      <td>5</td>\n",
       "      <td>18</td>\n",
       "      <td>2</td>\n",
       "      <td>33</td>\n",
       "      <td>4</td>\n",
       "      <td>22</td>\n",
       "      <td>5</td>\n",
       "      <td>89356.71</td>\n",
       "      <td>2</td>\n",
       "      <td>9</td>\n",
       "      <td>65.28</td>\n",
       "      <td>55.11</td>\n",
       "      <td>0</td>\n",
       "      <td>60</td>\n",
       "      <td>3.95</td>\n",
       "      <td>11</td>\n",
       "      <td>6</td>\n",
       "      <td>688</td>\n",
       "      <td>10</td>\n",
       "      <td>13</td>\n",
       "      <td>18</td>\n",
       "      <td>1</td>\n",
       "    </tr>\n",
       "    <tr>\n",
       "      <th>2</th>\n",
       "      <td>415.74</td>\n",
       "      <td>20</td>\n",
       "      <td>29</td>\n",
       "      <td>34</td>\n",
       "      <td>21</td>\n",
       "      <td>1</td>\n",
       "      <td>29</td>\n",
       "      <td>71</td>\n",
       "      <td>16</td>\n",
       "      <td>58438.63</td>\n",
       "      <td>3</td>\n",
       "      <td>11</td>\n",
       "      <td>44.05</td>\n",
       "      <td>53.84</td>\n",
       "      <td>0</td>\n",
       "      <td>81</td>\n",
       "      <td>3.81</td>\n",
       "      <td>22</td>\n",
       "      <td>0</td>\n",
       "      <td>371</td>\n",
       "      <td>27</td>\n",
       "      <td>7</td>\n",
       "      <td>33</td>\n",
       "      <td>1</td>\n",
       "    </tr>\n",
       "    <tr>\n",
       "      <th>3</th>\n",
       "      <td>565.89</td>\n",
       "      <td>10</td>\n",
       "      <td>22</td>\n",
       "      <td>16</td>\n",
       "      <td>14</td>\n",
       "      <td>6</td>\n",
       "      <td>0</td>\n",
       "      <td>78</td>\n",
       "      <td>16</td>\n",
       "      <td>3426.92</td>\n",
       "      <td>0</td>\n",
       "      <td>10</td>\n",
       "      <td>21.70</td>\n",
       "      <td>21.62</td>\n",
       "      <td>0</td>\n",
       "      <td>18</td>\n",
       "      <td>2.67</td>\n",
       "      <td>6</td>\n",
       "      <td>20</td>\n",
       "      <td>687</td>\n",
       "      <td>24</td>\n",
       "      <td>15</td>\n",
       "      <td>32</td>\n",
       "      <td>1</td>\n",
       "    </tr>\n",
       "    <tr>\n",
       "      <th>4</th>\n",
       "      <td>955.49</td>\n",
       "      <td>39</td>\n",
       "      <td>0</td>\n",
       "      <td>27</td>\n",
       "      <td>1</td>\n",
       "      <td>28</td>\n",
       "      <td>23</td>\n",
       "      <td>31</td>\n",
       "      <td>17</td>\n",
       "      <td>53080.12</td>\n",
       "      <td>3</td>\n",
       "      <td>3</td>\n",
       "      <td>56.63</td>\n",
       "      <td>53.71</td>\n",
       "      <td>0</td>\n",
       "      <td>98</td>\n",
       "      <td>3.19</td>\n",
       "      <td>31</td>\n",
       "      <td>11</td>\n",
       "      <td>605</td>\n",
       "      <td>20</td>\n",
       "      <td>17</td>\n",
       "      <td>21</td>\n",
       "      <td>1</td>\n",
       "    </tr>\n",
       "  </tbody>\n",
       "</table>\n",
       "</div>"
      ],
      "text/plain": [
       "   Transaction Amount  Payment Method  Transaction Type  Device Type  \\\n",
       "0              163.08               1                 6           10   \n",
       "1              430.74               0                 5           18   \n",
       "2              415.74              20                29           34   \n",
       "3              565.89              10                22           16   \n",
       "4              955.49              39                 0           27   \n",
       "\n",
       "   Browser Type  Operating System  Merchant Category  User Age  \\\n",
       "0            15                27                 22        68   \n",
       "1             2                33                  4        22   \n",
       "2            21                 1                 29        71   \n",
       "3            14                 6                  0        78   \n",
       "4             1                28                 23        31   \n",
       "\n",
       "   User Occupation  User Income  User Gender  User Account Status  \\\n",
       "0                7     66826.21            6                   11   \n",
       "1                5     89356.71            2                    9   \n",
       "2               16     58438.63            3                   11   \n",
       "3               16      3426.92            0                   10   \n",
       "4               17     53080.12            3                    3   \n",
       "\n",
       "   Location Distance  Time Taken for Transaction  Transaction Time of Day  \\\n",
       "0               9.34                       24.22                        0   \n",
       "1              65.28                       55.11                        0   \n",
       "2              44.05                       53.84                        0   \n",
       "3              21.70                       21.62                        0   \n",
       "4              56.63                       53.71                        0   \n",
       "\n",
       "   User's Transaction History  Merchant's Reputation Score  \\\n",
       "0                          26                         2.71   \n",
       "1                          60                         3.95   \n",
       "2                          81                         3.81   \n",
       "3                          18                         2.67   \n",
       "4                          98                         3.19   \n",
       "\n",
       "   Transaction Currency  Transaction Purpose  User's Credit Score  \\\n",
       "0                    24                    9                  343   \n",
       "1                    11                    6                  688   \n",
       "2                    22                    0                  371   \n",
       "3                     6                   20                  687   \n",
       "4                    31                   11                  605   \n",
       "\n",
       "   User's Email Domain  Merchant's Business Age  \\\n",
       "0                    3                        3   \n",
       "1                   10                       13   \n",
       "2                   27                        7   \n",
       "3                   24                       15   \n",
       "4                   20                       17   \n",
       "\n",
       "   Transaction Authentication Method  Fraudulent Flag  \n",
       "0                                  5                0  \n",
       "1                                 18                1  \n",
       "2                                 33                1  \n",
       "3                                 32                1  \n",
       "4                                 21                1  "
      ]
     },
     "execution_count": 73,
     "metadata": {},
     "output_type": "execute_result"
    }
   ],
   "source": [
    "df3.head()"
   ]
  },
  {
   "cell_type": "markdown",
   "id": "c6efb394",
   "metadata": {},
   "source": [
    "Splitting the dataframe into features and targets"
   ]
  },
  {
   "cell_type": "code",
   "execution_count": 76,
   "id": "c5277acf",
   "metadata": {},
   "outputs": [
    {
     "data": {
      "text/plain": [
       "(6000000, 24)"
      ]
     },
     "execution_count": 76,
     "metadata": {},
     "output_type": "execute_result"
    }
   ],
   "source": [
    "df3.shape"
   ]
  },
  {
   "cell_type": "code",
   "execution_count": 74,
   "id": "109bfd14",
   "metadata": {},
   "outputs": [],
   "source": [
    "# Features represented as X\n",
    "X = df3[df3.columns[:-1]]\n",
    "\n",
    "# Target represented as Y\n",
    "Y = df3[df3.columns[-1]]"
   ]
  },
  {
   "cell_type": "code",
   "execution_count": 77,
   "id": "22b22485",
   "metadata": {
    "scrolled": true
   },
   "outputs": [
    {
     "data": {
      "text/plain": [
       "(6000000, 23)"
      ]
     },
     "execution_count": 77,
     "metadata": {},
     "output_type": "execute_result"
    }
   ],
   "source": [
    "X.shape"
   ]
  },
  {
   "cell_type": "code",
   "execution_count": 79,
   "id": "d3e2286c",
   "metadata": {
    "scrolled": true
   },
   "outputs": [
    {
     "data": {
      "text/plain": [
       "0    0\n",
       "1    1\n",
       "2    1\n",
       "3    1\n",
       "4    1\n",
       "Name: Fraudulent Flag, dtype: int64"
      ]
     },
     "execution_count": 79,
     "metadata": {},
     "output_type": "execute_result"
    }
   ],
   "source": [
    "Y.head()"
   ]
  },
  {
   "cell_type": "code",
   "execution_count": 80,
   "id": "be082521",
   "metadata": {},
   "outputs": [],
   "source": [
    "# Splitting the data into train and test sets\n",
    "X_train, X_test, y_train, y_test = train_test_split(X, Y,test_size=0.2, random_state=0)"
   ]
  },
  {
   "cell_type": "markdown",
   "id": "f30c687a",
   "metadata": {},
   "source": [
    "### Decision Tree Model"
   ]
  },
  {
   "cell_type": "code",
   "execution_count": 104,
   "id": "d49078bc",
   "metadata": {},
   "outputs": [],
   "source": [
    "from sklearn.tree import DecisionTreeClassifier"
   ]
  },
  {
   "cell_type": "code",
   "execution_count": 108,
   "id": "ae47f40d",
   "metadata": {},
   "outputs": [],
   "source": [
    "tree = DecisionTreeClassifier()\n",
    "# Training the model \n",
    "tree.fit(train_set, y_train)\n",
    "y_pred = tree.predict(test_set)"
   ]
  },
  {
   "cell_type": "markdown",
   "id": "0844f1bc",
   "metadata": {},
   "source": [
    "Evaluating the model"
   ]
  },
  {
   "cell_type": "code",
   "execution_count": 107,
   "id": "ac7af50e",
   "metadata": {},
   "outputs": [
    {
     "name": "stdout",
     "output_type": "stream",
     "text": [
      "Accuracy: 0.49949166666666667\n",
      "Precision: 0.499492024814744\n",
      "Recall: 0.49949166666666667\n",
      "F1 score: 0.4994917804058401\n",
      "0.49949153416831926\n"
     ]
    }
   ],
   "source": [
    "print(\"Accuracy:\", accuracy_score(y_test, y_pred))\n",
    "print(\"Precision:\", precision_score(y_test,y_pred,average=\"weighted\"))  \n",
    "print('Recall:', recall_score(y_test,y_pred, average=\"weighted\"))\n",
    "print('F1 score:', f1_score(y_test, y_pred,\n",
    "                            average=\"weighted\"))\n",
    "print(roc_auc_score(y_test, y_pred))"
   ]
  },
  {
   "cell_type": "code",
   "execution_count": null,
   "id": "ca750fa1",
   "metadata": {},
   "outputs": [],
   "source": []
  },
  {
   "cell_type": "markdown",
   "id": "a905087c",
   "metadata": {},
   "source": [
    "### Gradient Boosting "
   ]
  },
  {
   "cell_type": "code",
   "execution_count": 83,
   "id": "e9d60faf",
   "metadata": {},
   "outputs": [],
   "source": [
    "# Creating an instance of the gradient boasting classifier and fitting it with the data to\n",
    "#select the features with the most importance \n",
    "clf = GradientBoostingClassifier(random_state=0)\n",
    "gbc = clf.fit(X_train, y_train)\n",
    "feat_imps = pd.Series(gbc.feature_importances_, index=X_train.columns)\n",
    "# Sorting the features by feature importance\n",
    "sorted_feat_imp = feat_imps.sort_values(ascending  = False)\n",
    "# Selecting the top 7 features\n",
    "top_features = sorted_feat_imp.iloc[:7]"
   ]
  },
  {
   "cell_type": "code",
   "execution_count": 90,
   "id": "434fdd93",
   "metadata": {},
   "outputs": [],
   "source": [
    "top15feat = sorted_feat_imp.iloc[:15]\n",
    "# Creating new train and test dataframe with only these top seven features\n",
    "train_set = X_train[top15feat.index]\n",
    "test_set = X_test[top15feat.index\n"
   ]
  },
  {
   "cell_type": "code",
   "execution_count": 91,
   "id": "38b1a8cf",
   "metadata": {},
   "outputs": [],
   "source": [
    "# Splitting the train set into training and testing data for training the dataset\n",
    "X_train1, X_test1, y_train1, y_test1 = train_test_split(X_train,y_train, test_size=0.2, random_state=0)"
   ]
  },
  {
   "cell_type": "code",
   "execution_count": 92,
   "id": "49e6a267",
   "metadata": {},
   "outputs": [],
   "source": [
    "# Importing packages necessary to evaluate the model\n",
    "from sklearn.model_selection import GridSearchCV\n",
    "from sklearn.metrics import roc_auc_score"
   ]
  },
  {
   "cell_type": "code",
   "execution_count": 93,
   "id": "68cca028",
   "metadata": {},
   "outputs": [],
   "source": [
    "# Specifying the list of hyperparameters to fit the model with in order to find the best combination \n",
    "grid_values = {'n_estimators':[2,3], 'learning_rate':[0.001,0.01,0.1,1], 'max_depth':[2,3,4]}\n",
    "clf1 = GridSearchCV(GradientBoostingClassifier(),param_grid = grid_values,scoring = 'roc_auc')\n",
    "# Fitting the model on the datas set\n",
    "clf1.fit(X_train1, y_train1)\n",
    "y_dec_func = clf1.decision_function(X_test1)"
   ]
  },
  {
   "cell_type": "code",
   "execution_count": 95,
   "id": "df81f30c",
   "metadata": {},
   "outputs": [
    {
     "data": {
      "text/plain": [
       "GradientBoostingClassifier(learning_rate=1, max_depth=4, n_estimators=2)"
      ]
     },
     "execution_count": 95,
     "metadata": {},
     "output_type": "execute_result"
    }
   ],
   "source": [
    "# Getting the best combination of parameters\n",
    "best_values = clf1.best_params_\n",
    "# Creating the model with these parameters \n",
    "final_clf = GradientBoostingClassifier(n_estimators = best_values['n_estimators'], \n",
    "                                       learning_rate=best_values['learning_rate'], max_depth=best_values['max_depth'])\n",
    "# Fitting the model with the data\n",
    "final_clf.fit(train_set, y_train)"
   ]
  },
  {
   "cell_type": "code",
   "execution_count": 96,
   "id": "bc521794",
   "metadata": {},
   "outputs": [],
   "source": [
    "#Using the model to predict the values of the test data\n",
    "y_pred = final_clf.predict(test_set)"
   ]
  },
  {
   "cell_type": "markdown",
   "id": "a226f5f9",
   "metadata": {},
   "source": [
    "Model Evaluation"
   ]
  },
  {
   "cell_type": "code",
   "execution_count": 99,
   "id": "1a918238",
   "metadata": {},
   "outputs": [
    {
     "name": "stdout",
     "output_type": "stream",
     "text": [
      "              precision    recall  f1-score   support\n",
      "\n",
      "           0       0.50      0.59      0.54    599406\n",
      "           1       0.50      0.41      0.45    600594\n",
      "\n",
      "    accuracy                           0.50   1200000\n",
      "   macro avg       0.50      0.50      0.50   1200000\n",
      "weighted avg       0.50      0.50      0.50   1200000\n",
      "\n"
     ]
    }
   ],
   "source": [
    "print(classification_report(y_test, y_pred))"
   ]
  },
  {
   "cell_type": "markdown",
   "id": "bb6cc262",
   "metadata": {},
   "source": [
    "This model was able to do better , but still needs to be improved on."
   ]
  },
  {
   "cell_type": "code",
   "execution_count": null,
   "id": "8de666ca",
   "metadata": {},
   "outputs": [],
   "source": []
  }
 ],
 "metadata": {
  "kernelspec": {
   "display_name": "Python 3 (ipykernel)",
   "language": "python",
   "name": "python3"
  },
  "language_info": {
   "codemirror_mode": {
    "name": "ipython",
    "version": 3
   },
   "file_extension": ".py",
   "mimetype": "text/x-python",
   "name": "python",
   "nbconvert_exporter": "python",
   "pygments_lexer": "ipython3",
   "version": "3.9.13"
  }
 },
 "nbformat": 4,
 "nbformat_minor": 5
}
